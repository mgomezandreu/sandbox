{
 "cells": [
  {
   "cell_type": "code",
   "execution_count": 9,
   "metadata": {},
   "outputs": [],
   "source": [
    "import numpy as np"
   ]
  },
  {
   "cell_type": "code",
   "execution_count": 10,
   "metadata": {},
   "outputs": [],
   "source": [
    "# The following function outputs a lidor saxis=\"1 0 0\" />\n",
    "\n",
    "def lidar_sensor_string(yaw, pitch, zaxis):\n",
    "    return f'<site name=\"lidar_site_{yaw}_{pitch}\" pos=\"0 0 0.05\" zaxis=\"{zaxis[0]} {zaxis[1]} {zaxis[2]}\" />'\n"
   ]
  },
  {
   "cell_type": "code",
   "execution_count": 20,
   "metadata": {},
   "outputs": [],
   "source": [
    "#<rangefinder name=\"lidar7\"  site=\"lidar_site_7\"  />\n",
    "\n",
    "def lidar_rangefinder_string(yaw, pitch):\n",
    "    return f'<rangefinder name=\"lidar_{yaw}_{pitch}\"  site=\"lidar_site_{yaw}_{pitch}\"  />'"
   ]
  },
  {
   "cell_type": "code",
   "execution_count": 16,
   "metadata": {},
   "outputs": [],
   "source": [
    "# Rotate the zaxis by the yaw and pitch angles\n",
    "def rotate_zaxis(yaw, pitch):\n",
    "    yaw = np.deg2rad(yaw)\n",
    "    pitch = np.deg2rad(pitch)\n",
    "    zaxis = np.array([1, 0, 0])\n",
    "    R_yaw = np.array([[np.cos(yaw), -np.sin(yaw), 0],\n",
    "                      [np.sin(yaw), np.cos(yaw), 0],\n",
    "                      [0, 0, 1]])\n",
    "    R_pitch = np.array([\n",
    "        [np.cos(pitch), 0 , np.sin(pitch)],\n",
    "        [0, 1, 0 ],\n",
    "        [-np.sin(pitch), 0 , np.cos(pitch)]\n",
    "    ])\n",
    "\n",
    "    return np.round(np.matmul(R_yaw, np.matmul(R_pitch, zaxis)),2)\n"
   ]
  },
  {
   "cell_type": "code",
   "execution_count": 18,
   "metadata": {},
   "outputs": [],
   "source": [
    "\n",
    "with open('lidar_sites.xml', 'w') as f:\n",
    "    for yaw in range(-180, 180, 1):\n",
    "        for pitch in range(-10, 45, 1):\n",
    "            zaxis = rotate_zaxis(yaw, pitch)\n",
    "            f.write(lidar_sensor_string(yaw, pitch, zaxis) + '\\n')\n",
    "\n",
    "    "
   ]
  },
  {
   "cell_type": "code",
   "execution_count": 22,
   "metadata": {},
   "outputs": [],
   "source": [
    "with open('lidar_rangefinder.xml', 'w') as f:\n",
    "    for yaw in range(-180, 180, 1):\n",
    "        for pitch in range(-10, 45, 1):\n",
    "            zaxis = rotate_zaxis(yaw, pitch)\n",
    "            f.write(lidar_rangefinder_string(yaw, pitch) + '\\n')"
   ]
  }
 ],
 "metadata": {
  "kernelspec": {
   "display_name": "Python 3",
   "language": "python",
   "name": "python3"
  },
  "language_info": {
   "codemirror_mode": {
    "name": "ipython",
    "version": 3
   },
   "file_extension": ".py",
   "mimetype": "text/x-python",
   "name": "python",
   "nbconvert_exporter": "python",
   "pygments_lexer": "ipython3",
   "version": "3.10.12"
  },
  "orig_nbformat": 4
 },
 "nbformat": 4,
 "nbformat_minor": 2
}
