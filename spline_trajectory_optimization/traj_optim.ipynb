{
 "cells": [
  {
   "cell_type": "code",
   "execution_count": 2,
   "metadata": {},
   "outputs": [
    {
     "name": "stderr",
     "output_type": "stream",
     "text": [
      "/usr/lib/python3/dist-packages/scipy/__init__.py:146: UserWarning: A NumPy version >=1.17.3 and <1.25.0 is required for this version of SciPy (detected version 1.26.4\n",
      "  warnings.warn(f\"A NumPy version >={np_minversion} and <{np_maxversion}\"\n"
     ]
    }
   ],
   "source": [
    "import numpy as np\n",
    "from scipy.interpolate import BSpline\n",
    "from mpl_toolkits import mplot3d\n",
    "import matplotlib.pyplot as plt\n",
    "\n",
    "import os\n",
    "\n",
    "%matplotlib qt\n",
    "\n"
   ]
  },
  {
   "cell_type": "markdown",
   "metadata": {},
   "source": [
    "### Cubic B-Spline interpolation with equidistant knots\n"
   ]
  },
  {
   "cell_type": "code",
   "execution_count": 3,
   "metadata": {},
   "outputs": [],
   "source": [
    "def basis_function(t, derivate = 0):\n",
    "    assert derivate in [0,1,2], \"derivate must be 0, 1 or 2\"\n",
    "\n",
    "    if derivate == 0:\n",
    "      t_ = np.array([1, t, t**2, t**3])\n",
    "    if derivate == 1:\n",
    "       t_ = np.array([0, 1, 2*t, 3*t**2])\n",
    "    if derivate == 2:\n",
    "       t_ = np.array(([0,0, 2, 6* t]))\n",
    "    \n",
    "    feature_matrix = 1/6* np.array([[1, 4, 1, 0],\n",
    "                               [-3,0 ,3,0],\n",
    "                                 [3,-6,3,0],\n",
    "                                 [-1,3,-3,1]])\n",
    "    \n",
    "    return t_ @ feature_matrix\n"
   ]
  },
  {
   "cell_type": "code",
   "execution_count": 4,
   "metadata": {},
   "outputs": [
    {
     "data": {
      "text/plain": [
       "[<matplotlib.lines.Line2D at 0x7f4d3cd47490>]"
      ]
     },
     "execution_count": 4,
     "metadata": {},
     "output_type": "execute_result"
    }
   ],
   "source": [
    "ts = np.linspace(0, 1, 100)\n",
    "basis = np.zeros((100, 4))\n",
    "for i, t in enumerate(ts):\n",
    "    basis[i] = basis_function(t)\n",
    "\n",
    "plt.plot(ts, basis[:,0], label=\"Basis 0\")\n",
    "plt.plot(ts, basis[:,1], label=\"Basis 1\")\n",
    "plt.plot(ts, basis[:,2], label=\"Basis 2\")\n",
    "plt.plot(ts, basis[:,3], label=\"Basis 3\")\n"
   ]
  },
  {
   "cell_type": "code",
   "execution_count": 5,
   "metadata": {},
   "outputs": [],
   "source": [
    "# vectorize the basis function\n",
    "def basis_function_mat(ts, n_control_points, n_knots, derivate = 0):\n",
    "    mat = np.zeros((ts.shape[0], n_control_points))\n",
    "    for i, t in enumerate(ts):\n",
    "        offset = max(min(int(np.floor(t)), n_knots -1),0)\n",
    "        u = t - offset\n",
    "        mat[i][offset: offset + 4] = basis_function(u, derivate = derivate)\n",
    "    \n",
    "    return mat\n"
   ]
  },
  {
   "cell_type": "code",
   "execution_count": 6,
   "metadata": {},
   "outputs": [
    {
     "data": {
      "text/plain": [
       "[<matplotlib.lines.Line2D at 0x7f4d3cde9870>]"
      ]
     },
     "execution_count": 6,
     "metadata": {},
     "output_type": "execute_result"
    }
   ],
   "source": [
    "control_points = np.array([[0,-10], [-2,-1], [-3,3],[-2,6], [0,5], [2,6], [3,3], [2,-1], [3,1], [4,0], [5,-10], [0,-20]])\n",
    "knots = [0,1,2,3,4,5,6,7]\n",
    "\n",
    "curve = np.zeros((100, 2))\n",
    "ts = np.linspace(-2, 10, 100)\n",
    "\n",
    "basis = basis_function_mat(ts,12, 8)\n",
    "curve = basis @ control_points\n",
    "\n",
    "\n",
    "plt.plot(curve[:,0], curve[:,1], label=\"B-spline curve\")\n",
    "plt.plot(control_points[:,0], control_points[:,1], \"ro-\")\n"
   ]
  },
  {
   "cell_type": "code",
   "execution_count": 7,
   "metadata": {},
   "outputs": [],
   "source": [
    "\n",
    "def spline_eval(control_points, num_samples, derivate = 0):\n",
    "    n_knots = control_points.shape[0] - 4\n",
    "\n",
    "    ts = np.linspace(0, n_knots, num_samples)\n",
    "    basis = basis_function_mat(ts, control_points.shape[0], n_knots, derivate = derivate)\n",
    "    curve = basis @ control_points\n",
    "\n",
    "    return curve\n",
    "\n"
   ]
  },
  {
   "cell_type": "markdown",
   "metadata": {},
   "source": [
    "### Parameteroptimition for cubic B-Spline with obstacles"
   ]
  },
  {
   "cell_type": "code",
   "execution_count": 8,
   "metadata": {},
   "outputs": [
    {
     "name": "stdout",
     "output_type": "stream",
     "text": [
      "\n",
      "******************************************************************************\n",
      "This program contains Ipopt, a library for large-scale nonlinear optimization.\n",
      " Ipopt is released as open source code under the Eclipse Public License (EPL).\n",
      "         For more information visit https://github.com/coin-or/Ipopt\n",
      "******************************************************************************\n",
      "\n",
      "Total number of variables............................:       36\n",
      "                     variables with only lower bounds:        0\n",
      "                variables with lower and upper bounds:        0\n",
      "                     variables with only upper bounds:        0\n",
      "Total number of equality constraints.................:        0\n",
      "Total number of inequality constraints...............:      202\n",
      "        inequality constraints with only lower bounds:      200\n",
      "   inequality constraints with lower and upper bounds:        2\n",
      "        inequality constraints with only upper bounds:        0\n",
      "\n",
      "\n",
      "Number of Iterations....: 132\n",
      "\n",
      "                                   (scaled)                 (unscaled)\n",
      "Objective...............:   1,0485369764105636e+02    1,0485369764105636e+02\n",
      "Dual infeasibility......:   6,9631481520311781e-05    6,9631481520311781e-05\n",
      "Constraint violation....:   2,8568167276254997e-10    2,8568167276254997e-10\n",
      "Variable bound violation:   0,0000000000000000e+00    0,0000000000000000e+00\n",
      "Complementarity.........:   1,0000087880839041e-11    1,0000087880839041e-11\n",
      "Overall NLP error.......:   6,9631481520311781e-05    6,9631481520311781e-05\n",
      "\n",
      "\n",
      "Number of objective function evaluations             = 188\n",
      "Number of objective gradient evaluations             = 112\n",
      "Number of equality constraint evaluations            = 0\n",
      "Number of inequality constraint evaluations          = 188\n",
      "Number of equality constraint Jacobian evaluations   = 0\n",
      "Number of inequality constraint Jacobian evaluations = 135\n",
      "Number of Lagrangian Hessian evaluations             = 0\n",
      "Total seconds in IPOPT                               = 0,325\n",
      "\n",
      "EXIT: Optimal Solution Found.\n",
      "(500, 3)\n"
     ]
    }
   ],
   "source": [
    "import casadi as cas\n",
    "\n",
    "# Decision variables\n",
    "n_control_points = 12\n",
    "dim_control_points = 3\n",
    "n_knots = n_control_points - 4\n",
    "n_samples = 50\n",
    "\n",
    "\n",
    "control_points = cas.SX.sym(\"control_points\", n_control_points, dim_control_points)\n",
    "dec_vars = cas.vertcat(cas.vec(control_points))\n",
    "\n",
    "\n",
    "# Define Curve points with respect to control points and basis functions\n",
    "curve = spline_eval(control_points, n_samples)\n",
    "dcurve = spline_eval(control_points, n_samples, derivate =1)\n",
    "ddcurve = spline_eval(control_points, n_samples, derivate = 2)\n",
    "\n",
    "# Define constraints\n",
    "start_point = np.array([0, 0 , 0])\n",
    "\n",
    "end_point = np.array([30, 30, 0])\n",
    "\n",
    "cons = cas.SX([])\n",
    "lbg = []\n",
    "ubg = []\n",
    "\n",
    "cons = cas.vertcat(cons, (curve[0,0] - start_point[0]) ** 2 + (curve[0,1] - start_point[1]) ** 2 + (curve[0,2] - start_point[2]) ** 2)\n",
    "lbg = np.concatenate((lbg, [0]))\n",
    "ubg = np.concatenate((ubg, [0.1]))\n",
    "\n",
    "cons = cas.vertcat(cons, (curve[-1,0] - end_point[0]) ** 2 + (curve[-1,1] - end_point[1]) ** 2 + (curve[-1,2] - end_point[2]) ** 2)\n",
    "lbg = np.concatenate((lbg, [0]))\n",
    "ubg = np.concatenate((ubg, [0.1]))\n",
    "\n",
    "# Define Obstacle constraint\n",
    "obstacle_positions = np.array([[3, 3, 0], [2,20,0], [20,2,0], [15,15,0]])\n",
    "obstacle_radii = np.array([3,5,5,1])\n",
    "for i in range(n_samples):\n",
    "    for obstacle_position, obstacle_radius in zip(obstacle_positions, obstacle_radii):\n",
    "        cons = cas.vertcat(cons, (curve[i,0] - obstacle_position[0]) ** 2 + (curve[i,1] - obstacle_position[1]) ** 2 + (curve[i,2] - obstacle_position[2]) ** 2 - (obstacle_radius + 1)  ** 2)\n",
    "        lbg = np.concatenate((lbg, [0]))\n",
    "        ubg = np.concatenate((ubg, [cas.inf]))\n",
    "\n",
    "# Define cost function to minimize the length of the B-spline curve\n",
    "cost = 0\n",
    "for i in range(n_samples-1):\n",
    "    cost = cost + (curve[i,0] - curve[i+1,0]) ** 2 + (curve[i,1] - curve[i+1,1]) ** 2 + (curve[i,2] - curve[i+1,2]) ** 2\n",
    "\n",
    "cost += cas.sum1(cas.sum2(ddcurve**2))\n",
    "\n",
    "\n",
    "\n",
    "# Create Optimization problem\n",
    "nlp = {\"x\": dec_vars, \"f\": cost, \"g\": cons}\n",
    "ipop_options = {\"ipopt.print_level\": 3, \"ipopt.max_iter\": 1000, \"ipopt.tol\": 1e-3, \"print_time\": 0, \"ipopt.acceptable_tol\": 1e-3, \"ipopt.acceptable_obj_change_tol\": 1e-3, \"ipopt.hessian_approximation\": \"limited-memory\"}\n",
    "\n",
    "solver = cas.nlpsol(\"solver\", \"ipopt\", nlp, ipop_options)\n",
    "\n",
    "# Solve Optimization problem\n",
    "res = solver(lbg=lbg, ubg=ubg)\n",
    "sol_control_points = np.array(res[\"x\"].reshape((n_control_points, dim_control_points)))\n",
    "\n",
    "# Plot the B-spline using numpy and scipy\n",
    "curve = spline_eval(sol_control_points, n_samples*10)\n",
    "print(curve.shape)\n",
    "\n",
    "# Plot in 3D\n",
    "fig = plt.figure()\n",
    "ax = plt.axes(projection='3d')\n",
    "\n",
    "for obstacle_position, obstacle_radius in zip(obstacle_positions, obstacle_radii):\n",
    "    u = np.linspace(0, np.pi, 30)\n",
    "    v = np.linspace(0, 2 * np.pi, 30)\n",
    "\n",
    "    x = np.outer(np.sin(u), np.sin(v)) * obstacle_radius + obstacle_position[0]\n",
    "    y = np.outer(np.sin(u), np.cos(v)) * obstacle_radius + obstacle_position[1]\n",
    "    z = np.outer(np.cos(u), np.ones_like(v)) * obstacle_radius + obstacle_position[2]\n",
    "\n",
    "    ax.plot_wireframe(x,y,z, color = \"red\")\n",
    "\n",
    "\n",
    "ax.plot3D(curve[:,0], curve[:,1], curve[:,2], label=\"B-spline curve\")\n",
    "\n",
    "\n",
    "   \n",
    "\n",
    "\n",
    "plt.show()\n"
   ]
  },
  {
   "cell_type": "markdown",
   "metadata": {},
   "source": [
    "### Trajectory Optimization using Neural Radiance Field (NRF as cost function)"
   ]
  },
  {
   "cell_type": "code",
   "execution_count": 9,
   "metadata": {},
   "outputs": [],
   "source": [
    "import torch\n",
    "import torch.nn as nn\n",
    "import torch.nn.functional as F\n",
    "\n",
    "\n",
    "class Embedder(nn.Module):\n",
    "    def __init__(self):\n",
    "        super().__init__()\n",
    "        multires = 10\n",
    "\n",
    "        embed_fns = []\n",
    "        d = 3\n",
    "        out_dim = 0\n",
    "        embed_fns.append(lambda x: x)\n",
    "        out_dim += d\n",
    "\n",
    "        max_freq = multires - 1\n",
    "        N_freqs = multires\n",
    "\n",
    "        freq_bands = 2.0 ** torch.linspace(0.0, max_freq, steps=N_freqs)\n",
    "\n",
    "        for freq in freq_bands:\n",
    "            for p_fn in [torch.sin, torch.cos]:\n",
    "                embed_fns.append(lambda x, p_fn=p_fn, freq=freq: p_fn(x * freq))\n",
    "                out_dim += d\n",
    "\n",
    "        self.embed_fns = embed_fns\n",
    "        self.out_dim = out_dim\n",
    "\n",
    "    def forward(self, inputs):\n",
    "        return torch.cat([fn(inputs) for fn in self.embed_fns], -1)\n",
    "\n",
    "\n",
    "class DensityNeRF(nn.Module):\n",
    "    \"\"\"NeRF implementation just returning densities.\"\"\"\n",
    "    def __init__(self):\n",
    "        super().__init__()\n",
    "\n",
    "        self.embedder = Embedder()\n",
    "        self.input_ch = self.embedder.out_dim\n",
    "        self.skips = [4]\n",
    "\n",
    "        D = 8\n",
    "        W = 256\n",
    "        self.pts_linears = nn.ModuleList(\n",
    "            [nn.Linear(self.input_ch, W)]\n",
    "            + [\n",
    "                nn.Linear(W, W)\n",
    "                if i not in self.skips\n",
    "                else nn.Linear(W + self.input_ch, W)\n",
    "                for i in range(D - 1)\n",
    "            ]\n",
    "        )\n",
    "\n",
    "        self.alpha_linear = nn.Linear(W, 1)\n",
    "\n",
    "    def forward(self, x):\n",
    "        input_pts = self.embedder(x)\n",
    "        h = input_pts\n",
    "        for i, l in enumerate(self.pts_linears):\n",
    "            h = self.pts_linears[i](h)\n",
    "            h = F.relu(h)\n",
    "            if i in self.skips:\n",
    "                h = torch.cat([input_pts, h], -1)\n",
    "\n",
    "        alpha = self.alpha_linear(h)\n",
    "        alpha = torch.relu(alpha)\n",
    "\n",
    "        return alpha\n"
   ]
  },
  {
   "cell_type": "code",
   "execution_count": 10,
   "metadata": {},
   "outputs": [
    {
     "data": {
      "text/plain": [
       "_IncompatibleKeys(missing_keys=[], unexpected_keys=['views_linears.0.weight', 'views_linears.0.bias', 'feature_linear.weight', 'feature_linear.bias', 'rgb_linear.weight', 'rgb_linear.bias'])"
      ]
     },
     "execution_count": 10,
     "metadata": {},
     "output_type": "execute_result"
    }
   ],
   "source": [
    "model = DensityNeRF()\n",
    "model_path =  \"nerf_model.tar\"\n",
    "model.load_state_dict(\n",
    "    torch.load(model_path, map_location=\"cpu\")[\"network_fn_state_dict\"],\n",
    "    strict=False,\n",
    ")"
   ]
  },
  {
   "cell_type": "code",
   "execution_count": 11,
   "metadata": {},
   "outputs": [],
   "source": [
    "meshgrid = torch.meshgrid(\n",
    "    torch.linspace(-0.5, 0.5, 50),\n",
    "    torch.linspace(-1.0, 1.2, 100),\n",
    "    torch.linspace(-0.5, 1, 100),\n",
    "    indexing='ij'\n",
    ")\n",
    "\n",
    "points = torch.stack(meshgrid, dim=-1).reshape(-1, 3)\n",
    "with torch.no_grad():   \n",
    "    density = model(points).detach()[..., 0]\n",
    "points = points.numpy()"
   ]
  },
  {
   "cell_type": "code",
   "execution_count": 13,
   "metadata": {},
   "outputs": [],
   "source": [
    "viz_threshold = 0.1\n",
    "\n",
    "\n",
    "fig = plt.figure()\n",
    "ax = plt.axes(projection='3d')\n",
    "g = ax.scatter3D(\n",
    "    points[density > viz_threshold][:, 0],\n",
    "    points[density > viz_threshold][:, 1],\n",
    "    points[density > viz_threshold][:, 2],\n",
    "    cmap=\"jet\",\n",
    "    c=density[density > viz_threshold],\n",
    "    s=0.5,\n",
    ")\n",
    "cb = plt.colorbar(g, ax=ax)\n",
    "cb.set_label('NeRF Density')\n",
    "plt.xticks([], [])\n",
    "plt.yticks([], [])\n",
    "plt.tight_layout()\n",
    "plt.axis('equal')\n",
    "plt.show()"
   ]
  },
  {
   "cell_type": "markdown",
   "metadata": {},
   "source": [
    "### Helpful Links\n",
    "- https://gist.github.com/jgillis/54767ae9e38dca3dfcb9144fb4eb4398 \n",
    "- https://www.youtube.com/watch?v=jvPPXbo87ds"
   ]
  },
  {
   "cell_type": "markdown",
   "metadata": {},
   "source": [
    "### Sources:\n",
    "- nerf_model.tar is taken from the example section of the l4casadi libary https://github.com/Tim-Salzmann/l4casadi"
   ]
  }
 ],
 "metadata": {
  "kernelspec": {
   "display_name": "Python 3 (ipykernel)",
   "language": "python",
   "name": "python3"
  },
  "language_info": {
   "codemirror_mode": {
    "name": "ipython",
    "version": 3
   },
   "file_extension": ".py",
   "mimetype": "text/x-python",
   "name": "python",
   "nbconvert_exporter": "python",
   "pygments_lexer": "ipython3",
   "version": "3.10.12"
  }
 },
 "nbformat": 4,
 "nbformat_minor": 2
}
