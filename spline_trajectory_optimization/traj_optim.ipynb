{
 "cells": [
  {
   "cell_type": "code",
   "execution_count": 21,
   "metadata": {},
   "outputs": [],
   "source": [
    "import numpy as np\n",
    "from scipy.interpolate import BSpline\n",
    "\n",
    "from mpl_toolkits import mplot3d\n",
    "\n",
    "import matplotlib.pyplot as plt\n",
    "\n",
    "%matplotlib qt\n",
    "\n"
   ]
  },
  {
   "cell_type": "markdown",
   "metadata": {},
   "source": [
    "### Cubic B-Spline interpolation with equidistant knots\n"
   ]
  },
  {
   "cell_type": "code",
   "execution_count": 22,
   "metadata": {},
   "outputs": [],
   "source": [
    "def basis_function(t):\n",
    "    t_ = np.array([1, t, t**2, t**3])\n",
    "    feature_matrix = 1/6* np.array([[1, 4, 1, 0],\n",
    "                               [-3,0 ,3,0],\n",
    "                                 [3,-6,3,0],\n",
    "                                 [-1,3,-3,1]])\n",
    "    \n",
    "    return t_ @ feature_matrix\n"
   ]
  },
  {
   "cell_type": "code",
   "execution_count": 23,
   "metadata": {},
   "outputs": [
    {
     "data": {
      "text/plain": [
       "[<matplotlib.lines.Line2D at 0x7fcc1715a3b0>]"
      ]
     },
     "execution_count": 23,
     "metadata": {},
     "output_type": "execute_result"
    }
   ],
   "source": [
    "ts = np.linspace(0, 1, 100)\n",
    "basis = np.zeros((100, 4))\n",
    "for i, t in enumerate(ts):\n",
    "    basis[i] = basis_function(t)\n",
    "\n",
    "plt.plot(ts, basis[:,0], label=\"Basis 0\")\n",
    "plt.plot(ts, basis[:,1], label=\"Basis 1\")\n",
    "plt.plot(ts, basis[:,2], label=\"Basis 2\")\n",
    "plt.plot(ts, basis[:,3], label=\"Basis 3\")\n"
   ]
  },
  {
   "cell_type": "code",
   "execution_count": 24,
   "metadata": {},
   "outputs": [],
   "source": [
    "# vectorize the basis function\n",
    "def basis_function_mat(ts, n_control_points, n_knots):\n",
    "    mat = np.zeros((ts.shape[0], n_control_points))\n",
    "    for i, t in enumerate(ts):\n",
    "        offset = max(min(int(np.floor(t)), n_knots -1),0)\n",
    "        u = t - offset\n",
    "        mat[i][offset: offset + 4] = basis_function(u)\n",
    "    \n",
    "    return mat\n"
   ]
  },
  {
   "cell_type": "code",
   "execution_count": 25,
   "metadata": {},
   "outputs": [
    {
     "data": {
      "text/plain": [
       "[<matplotlib.lines.Line2D at 0x7fcc171bd4b0>]"
      ]
     },
     "execution_count": 25,
     "metadata": {},
     "output_type": "execute_result"
    }
   ],
   "source": [
    "control_points = np.array([[0,-10], [-2,-1], [-3,3],[-2,6], [0,5], [2,6], [3,3], [2,-1], [3,1], [4,0], [5,-10], [0,-20]])\n",
    "knots = [0,1,2,3,4,5,6,7]\n",
    "\n",
    "curve = np.zeros((100, 2))\n",
    "ts = np.linspace(-2, 10, 100)\n",
    "\n",
    "basis = basis_function_mat(ts,12, 8)\n",
    "curve = basis @ control_points\n",
    "\n",
    "\n",
    "plt.plot(curve[:,0], curve[:,1], label=\"B-spline curve\")\n",
    "plt.plot(control_points[:,0], control_points[:,1], \"ro-\")\n"
   ]
  },
  {
   "cell_type": "code",
   "execution_count": 26,
   "metadata": {},
   "outputs": [],
   "source": [
    "# Casadi Function for B-spline\n",
    "def spline_eval(control_points, num_samples):\n",
    "    n_knots = control_points.shape[0] - 4\n",
    "\n",
    "    ts = np.linspace(0, n_knots, num_samples)\n",
    "    basis = basis_function_mat(ts, control_points.shape[0], n_knots)\n",
    "    curve = basis @ control_points\n",
    "\n",
    "    return curve\n",
    "\n"
   ]
  },
  {
   "cell_type": "code",
   "execution_count": 31,
   "metadata": {},
   "outputs": [
    {
     "name": "stdout",
     "output_type": "stream",
     "text": [
      "Total number of variables............................:       60\n",
      "                     variables with only lower bounds:        0\n",
      "                variables with lower and upper bounds:        0\n",
      "                     variables with only upper bounds:        0\n",
      "Total number of equality constraints.................:        0\n",
      "Total number of inequality constraints...............:      102\n",
      "        inequality constraints with only lower bounds:      100\n",
      "   inequality constraints with lower and upper bounds:        2\n",
      "        inequality constraints with only upper bounds:        0\n",
      "\n",
      "\n",
      "Number of Iterations....: 78\n",
      "\n",
      "                                   (scaled)                 (unscaled)\n",
      "Objective...............:   3,9060722042555835e+00    3,9060722042555835e+00\n",
      "Dual infeasibility......:   8,6886049779628797e-04    8,6886049779628797e-04\n",
      "Constraint violation....:   5,1672685222325931e-06    5,1672685222325931e-06\n",
      "Variable bound violation:   0,0000000000000000e+00    0,0000000000000000e+00\n",
      "Complementarity.........:   3,8815793844228253e-07    3,8815793844228253e-07\n",
      "Overall NLP error.......:   8,6886049779628797e-04    8,6886049779628797e-04\n",
      "\n",
      "\n",
      "Number of objective function evaluations             = 113\n",
      "Number of objective gradient evaluations             = 68\n",
      "Number of equality constraint evaluations            = 0\n",
      "Number of inequality constraint evaluations          = 113\n",
      "Number of equality constraint Jacobian evaluations   = 0\n",
      "Number of inequality constraint Jacobian evaluations = 81\n",
      "Number of Lagrangian Hessian evaluations             = 0\n",
      "Total seconds in IPOPT                               = 0,207\n",
      "\n",
      "EXIT: Optimal Solution Found.\n",
      "(100, 3)\n"
     ]
    }
   ],
   "source": [
    "import casadi as cas\n",
    "\n",
    "# Decision variables\n",
    "n_control_points = 20\n",
    "dim_control_points = 3\n",
    "n_knots = n_control_points - 4\n",
    "n_samples = 100\n",
    "\n",
    "\n",
    "control_points = cas.SX.sym(\"control_points\", n_control_points, dim_control_points)\n",
    "dec_vars = cas.vertcat(cas.vec(control_points))\n",
    "\n",
    "\n",
    "# Define Curve points with respect to control points and basis functions\n",
    "curve = spline_eval(control_points, n_samples)\n",
    "\n",
    "# Define constraints\n",
    "start_point = np.array([0, 0 , 0])\n",
    "end_point = np.array([10, 10, 10])\n",
    "\n",
    "cons = cas.SX([])\n",
    "lbg = []\n",
    "ubg = []\n",
    "\n",
    "\n",
    "\n",
    "\n",
    "cons = cas.vertcat(cons, (curve[0,0] - start_point[0]) ** 2 + (curve[0,1] - start_point[1]) ** 2 + (curve[0,2] - start_point[2]) ** 2)\n",
    "lbg = np.concatenate((lbg, [0]))\n",
    "ubg = np.concatenate((ubg, [0.1]))\n",
    "\n",
    "cons = cas.vertcat(cons, (curve[-1,0] - end_point[0]) ** 2 + (curve[-1,1] - end_point[1]) ** 2 + (curve[-1,2] - end_point[2]) ** 2)\n",
    "lbg = np.concatenate((lbg, [0]))\n",
    "ubg = np.concatenate((ubg, [0.1]))\n",
    "\n",
    "# Define Obstacle constraint\n",
    "obstacle_positions = np.array([[5, 5, 5]])\n",
    "obstacle_radii = np.array([5])\n",
    "for i in range(n_samples):\n",
    "    for obstacle_position, obstacle_radius in zip(obstacle_positions, obstacle_radii):\n",
    "        cons = cas.vertcat(cons, (curve[i,0] - obstacle_position[0]) ** 2 + (curve[i,1] - obstacle_position[1]) ** 2 + (curve[i,2] - obstacle_position[2]) ** 2- obstacle_radius ** 2)\n",
    "        lbg = np.concatenate((lbg, [0]))\n",
    "        ubg = np.concatenate((ubg, [cas.inf]))\n",
    "\n",
    "# Define cost function to minimize the length of the B-spline curve\n",
    "cost = 0\n",
    "for i in range(n_samples-1):\n",
    "    cost = cost + (curve[i,0] - curve[i+1,0]) ** 2 + (curve[i,1] - curve[i+1,1]) ** 2 + (curve[i,2] - curve[i+1,2]) ** 2\n",
    "\n",
    "\n",
    "\n",
    "# Create Optimization problem\n",
    "nlp = {\"x\": dec_vars, \"f\": cost, \"g\": cons}\n",
    "ipop_options = {\"ipopt.print_level\": 3, \"ipopt.max_iter\": 1000, \"ipopt.tol\": 1e-3, \"print_time\": 0, \"ipopt.acceptable_tol\": 1e-3, \"ipopt.acceptable_obj_change_tol\": 1e-3, \"ipopt.hessian_approximation\": \"limited-memory\"}\n",
    "\n",
    "solver = cas.nlpsol(\"solver\", \"ipopt\", nlp, ipop_options)\n",
    "\n",
    "# Solve Optimization problem\n",
    "res = solver(lbg=lbg, ubg=ubg)\n",
    "sol_control_points = np.array(res[\"x\"].reshape((n_control_points, dim_control_points)))\n",
    "\n",
    "# Plot the B-spline using numpy and scipy\n",
    "curve = spline_eval(sol_control_points, n_samples)\n",
    "print(curve.shape)\n",
    "\n",
    "# Plot in 3D\n",
    "fig = plt.figure()\n",
    "ax = plt.axes(projection='3d')\n",
    "ax.plot3D(curve[:,0], curve[:,1], curve[:,2], label=\"B-spline curve\")\n",
    "\n",
    "\n",
    "plt.show()\n"
   ]
  },
  {
   "cell_type": "code",
   "execution_count": null,
   "metadata": {},
   "outputs": [],
   "source": []
  },
  {
   "cell_type": "markdown",
   "metadata": {},
   "source": [
    "### Helpful Links\n",
    "- https://gist.github.com/jgillis/54767ae9e38dca3dfcb9144fb4eb4398 \n",
    "- https://www.youtube.com/watch?v=jvPPXbo87ds"
   ]
  }
 ],
 "metadata": {
  "kernelspec": {
   "display_name": "Python 3 (ipykernel)",
   "language": "python",
   "name": "python3"
  },
  "language_info": {
   "codemirror_mode": {
    "name": "ipython",
    "version": 3
   },
   "file_extension": ".py",
   "mimetype": "text/x-python",
   "name": "python",
   "nbconvert_exporter": "python",
   "pygments_lexer": "ipython3",
   "version": "3.10.12"
  }
 },
 "nbformat": 4,
 "nbformat_minor": 2
}
