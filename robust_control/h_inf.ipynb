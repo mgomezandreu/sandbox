{
 "cells": [
  {
   "cell_type": "code",
   "execution_count": 10,
   "metadata": {},
   "outputs": [],
   "source": [
    "import numpy as np\n",
    "import matplotlib.pyplot as plt"
   ]
  },
  {
   "cell_type": "markdown",
   "metadata": {},
   "source": [
    "### Basic study into transfer functions\n",
    "\n",
    "- Assume system ddx + dx + x = u\n",
    "- Taking the Laplace Transform on both sides yields: s²bx + sbx + bx = bu\n",
    "- The resulting systems transfer function is G = bx/bu = 1/(s² + s +1)"
   ]
  },
  {
   "cell_type": "code",
   "execution_count": 30,
   "metadata": {},
   "outputs": [
    {
     "name": "stdout",
     "output_type": "stream",
     "text": [
      "[-1.00000067e-03 -1.49997725e-03 -1.99995533e-03 ... -3.04091380e+00\n",
      " -3.04091890e+00 -3.04092400e+00]\n"
     ]
    },
    {
     "data": {
      "text/plain": [
       "Text(0, 0.5, 'Phase')"
      ]
     },
     "execution_count": 30,
     "metadata": {},
     "output_type": "execute_result"
    },
    {
     "data": {
      "image/png": "[encoded data removed]",
      "text/plain": [
       "<Figure size 432x288 with 2 Axes>"
      ]
     },
     "metadata": {
      "needs_background": "light"
     },
     "output_type": "display_data"
    }
   ],
   "source": [
    "G = lambda s: 1/(s**2 + s + 1)\n",
    "\n",
    "s_ = np.linspace(0.001, 10, num=20000, endpoint=True, dtype=None, axis=0)\n",
    "\n",
    "G_ = G((0+1j)*s_)\n",
    "\n",
    "# Extract applitude and phase\n",
    "G_amp = np.abs(G_)\n",
    "G_phase = np.angle(G_)\n",
    "\n",
    "print(G_phase)\n",
    "\n",
    "# Plot s on log scale and amplitude and phase on linear scale\n",
    "fig, ax = plt.subplots(2,1)\n",
    "\n",
    "ax[0].plot(s_, G_amp, 'b-')\n",
    "ax[0].set_xlabel('s')\n",
    "ax[0].set_ylabel('Amplitude', color='b')\n",
    "\n",
    "\n",
    "ax[1].plot(s_, G_phase, 'r-')\n",
    "ax[1].set_ylabel('Phase', color='r')\n"
   ]
  },
  {
   "cell_type": "code",
   "execution_count": null,
   "metadata": {},
   "outputs": [],
   "source": []
  },
  {
   "cell_type": "markdown",
   "metadata": {},
   "source": [
    "### Useful Links\n",
    "- https://authors.library.caltech.edu/93672/1/01101812.pdf"
   ]
  }
 ],
 "metadata": {
  "kernelspec": {
   "display_name": "Python 3",
   "language": "python",
   "name": "python3"
  },
  "language_info": {
   "codemirror_mode": {
    "name": "ipython",
    "version": 3
   },
   "file_extension": ".py",
   "mimetype": "text/x-python",
   "name": "python",
   "nbconvert_exporter": "python",
   "pygments_lexer": "ipython3",
   "version": "3.10.12"
  },
  "orig_nbformat": 4
 },
 "nbformat": 4,
 "nbformat_minor": 2
}
